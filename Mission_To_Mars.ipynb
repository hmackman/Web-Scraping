{
 "cells": [
  {
   "cell_type": "code",
   "execution_count": 1,
   "metadata": {},
   "outputs": [],
   "source": [
    "from splinter import Browser\n",
    "from bs4 import BeautifulSoup as bs\n",
    "import pandas as pd"
   ]
  },
  {
   "cell_type": "code",
   "execution_count": 2,
   "metadata": {},
   "outputs": [],
   "source": [
    "executable_path = {'executable_path': 'chromedriver.exe'}\n",
    "browser = Browser('chrome', **executable_path, headless=False)"
   ]
  },
  {
   "cell_type": "code",
   "execution_count": 3,
   "metadata": {},
   "outputs": [],
   "source": [
    "url = 'https://mars.nasa.gov/news/'\n",
    "browser.visit(url)"
   ]
  },
  {
   "cell_type": "code",
   "execution_count": 5,
   "metadata": {},
   "outputs": [
    {
     "name": "stdout",
     "output_type": "stream",
     "text": [
      "<li class=\"slide\"><div class=\"image_and_description_container\"><a href=\"/news/8447/watch-nasa-build-its-next-mars-rover/\" target=\"_self\"><div class=\"rollover_description\"><div class=\"rollover_description_inner\">A newly installed webcam offers the public a live, bird's-eye view of NASA's Mars 2020 rover as it takes shape at NASA's Jet Propulsion Laboratory. </div><div class=\"overlay_arrow\"><img alt=\"More\" src=\"/assets/overlay-arrow.png\"/></div></div><div class=\"list_image\"><img alt='The View from the \"Seeing 2020\" Webcam' src=\"/system/news_items/list_view_images/8447_seeing_2020-th.jpg\"/></div><div class=\"bottom_gradient\"><div><h3>Watch NASA Build Its Next Mars Rover</h3></div></div></a><div class=\"list_text\"><div class=\"list_date\">June  6, 2019</div><div class=\"content_title\"><a href=\"/news/8447/watch-nasa-build-its-next-mars-rover/\" target=\"_self\">Watch NASA Build Its Next Mars Rover</a></div><div class=\"article_teaser_body\">A newly installed webcam offers the public a live, bird's-eye view of NASA's Mars 2020 rover as it takes shape at NASA's Jet Propulsion Laboratory. </div></div></div></li>\n"
     ]
    }
   ],
   "source": [
    "html = browser.html\n",
    "# Parse HTML with Beautiful Soup\n",
    "soup = bs(html, 'html.parser')\n",
    "# Retrieve all elements that contain book information\n",
    "articles = soup.select_one(\"ul.item_list li.slide\")\n",
    "print(articles)"
   ]
  },
  {
   "cell_type": "code",
   "execution_count": null,
   "metadata": {},
   "outputs": [],
   "source": []
  },
  {
   "cell_type": "code",
   "execution_count": 6,
   "metadata": {},
   "outputs": [],
   "source": [
    "# Iterate through each book\n",
    "for article in articles:\n",
    "    # Use Beautiful Soup's find() method to navigate and retrieve attributes\n",
    "    step_one = article.find('div', class_=\"content_title\")\n",
    "    link = step_one.find('a')\n",
    "    step_two = article.find('div', class_=\"article_teaser_body\")\n",
    "    body = step_two.find"
   ]
  },
  {
   "cell_type": "code",
   "execution_count": 7,
   "metadata": {},
   "outputs": [
    {
     "name": "stdout",
     "output_type": "stream",
     "text": [
      "Watch NASA Build Its Next Mars Rover\n"
     ]
    }
   ],
   "source": [
    "news_title = (link.text)\n",
    "print(news_title)"
   ]
  },
  {
   "cell_type": "code",
   "execution_count": 8,
   "metadata": {},
   "outputs": [
    {
     "name": "stdout",
     "output_type": "stream",
     "text": [
      "A newly installed webcam offers the public a live, bird's-eye view of NASA's Mars 2020 rover as it takes shape at NASA's Jet Propulsion Laboratory. \n"
     ]
    }
   ],
   "source": [
    "news_paragraph = (step_two.text)\n",
    "print(news_paragraph)"
   ]
  },
  {
   "cell_type": "code",
   "execution_count": null,
   "metadata": {},
   "outputs": [],
   "source": []
  },
  {
   "cell_type": "code",
   "execution_count": 9,
   "metadata": {},
   "outputs": [],
   "source": [
    "executable_path = {'executable_path': 'chromedriver.exe'}\n",
    "browser = Browser('chrome', **executable_path, headless=False)"
   ]
  },
  {
   "cell_type": "code",
   "execution_count": 10,
   "metadata": {},
   "outputs": [],
   "source": [
    "url_one = \"https://www.jpl.nasa.gov/spaceimages/?search=&category=Mars\"\n",
    "browser.visit(url_one)"
   ]
  },
  {
   "cell_type": "code",
   "execution_count": 11,
   "metadata": {},
   "outputs": [],
   "source": [
    "button = browser.find_by_id(\"full_image\")\n",
    "button.click()\n",
    "\n",
    "browser = Browser(\"chrome\", headless=False)\n",
    "url_two = \"https://www.jpl.nasa.gov/spaceimages/?search=&category=Mars\"\n",
    "browser.visit(url_two)"
   ]
  },
  {
   "cell_type": "code",
   "execution_count": 12,
   "metadata": {},
   "outputs": [],
   "source": [
    "url_base = \"https://www.jpl.nasa.gov\""
   ]
  },
  {
   "cell_type": "code",
   "execution_count": 13,
   "metadata": {},
   "outputs": [],
   "source": [
    "html_two = browser.html\n",
    "soup_two = bs(html_two, \"html.parser\")"
   ]
  },
  {
   "cell_type": "code",
   "execution_count": 14,
   "metadata": {},
   "outputs": [
    {
     "data": {
      "text/plain": [
       "<a class=\"button fancybox\" data-description=\"This map-projected view of Ceres was created from images taken by NASA's Dawn spacecraft during its high-altitude mapping orbit, in August and September, 2015.\" data-fancybox-group=\"images\" data-fancybox-href=\"/spaceimages/images/mediumsize/PIA19977_ip.jpg\" data-link=\"/spaceimages/details.php?id=PIA19977\" data-title=\"Hints at Ceres' Composition from Color\" id=\"full_image\">\n",
       "\t\t\t\t\tFULL IMAGE\n",
       "\t\t\t\t  </a>"
      ]
     },
     "execution_count": 14,
     "metadata": {},
     "output_type": "execute_result"
    }
   ],
   "source": [
    "button_one = soup_two.find('a', class_='button fancybox')\n",
    "button_one"
   ]
  },
  {
   "cell_type": "code",
   "execution_count": 15,
   "metadata": {},
   "outputs": [
    {
     "data": {
      "text/plain": [
       "'/spaceimages/images/mediumsize/PIA19977_ip.jpg'"
      ]
     },
     "execution_count": 15,
     "metadata": {},
     "output_type": "execute_result"
    }
   ],
   "source": [
    "url_image = soup_two.find('a', {'id':'full_image','data-fancybox-href':True}).get('data-fancybox-href')\n",
    "url_image"
   ]
  },
  {
   "cell_type": "code",
   "execution_count": 16,
   "metadata": {},
   "outputs": [
    {
     "name": "stdout",
     "output_type": "stream",
     "text": [
      "https://www.jpl.nasa.gov/spaceimages/images/mediumsize/PIA19977_ip.jpg\n"
     ]
    }
   ],
   "source": [
    "complete_url = url_base + url_image\n",
    "print(complete_url)"
   ]
  },
  {
   "cell_type": "code",
   "execution_count": 17,
   "metadata": {},
   "outputs": [],
   "source": [
    "browser = Browser(\"chrome\", headless=False)\n",
    "url_twitter = \"https://www.twitter.com/marswxreport?lang=en\"\n",
    "browser.visit(url_twitter)"
   ]
  },
  {
   "cell_type": "code",
   "execution_count": 18,
   "metadata": {},
   "outputs": [],
   "source": [
    "html_three = browser.html\n",
    "soup_three = bs(html_three, \"html.parser\")"
   ]
  },
  {
   "cell_type": "code",
   "execution_count": 19,
   "metadata": {},
   "outputs": [],
   "source": [
    "tweet = soup_three.find('p', class_=\"TweetTextSize TweetTextSize--normal js-tweet-text tweet-text\")"
   ]
  },
  {
   "cell_type": "code",
   "execution_count": 20,
   "metadata": {},
   "outputs": [
    {
     "data": {
      "text/plain": [
       "'InSight sol 188 (2019-06-07) low -102.5ºC (-152.6ºF) high -21.9ºC (-7.4ºF)\\nwinds from the SSE at 4.8 m/s (10.8 mph) gusting to 15.6 m/s (35.0 mph)\\npressure at 7.60 hPapic.twitter.com/ocUTA1rgaU'"
      ]
     },
     "execution_count": 20,
     "metadata": {},
     "output_type": "execute_result"
    }
   ],
   "source": [
    "mars_weather = tweet.text.strip()\n",
    "mars_weather"
   ]
  },
  {
   "cell_type": "code",
   "execution_count": 21,
   "metadata": {},
   "outputs": [
    {
     "data": {
      "text/plain": [
       "[                      0                              1\n",
       " 0  Equatorial Diameter:                       6,792 km\n",
       " 1       Polar Diameter:                       6,752 km\n",
       " 2                 Mass:  6.42 x 10^23 kg (10.7% Earth)\n",
       " 3                Moons:            2 (Phobos & Deimos)\n",
       " 4       Orbit Distance:       227,943,824 km (1.52 AU)\n",
       " 5         Orbit Period:           687 days (1.9 years)\n",
       " 6  Surface Temperature:                  -153 to 20 °C\n",
       " 7         First Record:              2nd millennium BC\n",
       " 8          Recorded By:           Egyptian astronomers]"
      ]
     },
     "execution_count": 21,
     "metadata": {},
     "output_type": "execute_result"
    }
   ],
   "source": [
    "url_fat = \"https://space-facts.com/mars/\"\n",
    "table_top = pd.read_html(url_fat)\n",
    "table_top"
   ]
  },
  {
   "cell_type": "code",
   "execution_count": 22,
   "metadata": {},
   "outputs": [
    {
     "data": {
      "text/html": [
       "<div>\n",
       "<style scoped>\n",
       "    .dataframe tbody tr th:only-of-type {\n",
       "        vertical-align: middle;\n",
       "    }\n",
       "\n",
       "    .dataframe tbody tr th {\n",
       "        vertical-align: top;\n",
       "    }\n",
       "\n",
       "    .dataframe thead th {\n",
       "        text-align: right;\n",
       "    }\n",
       "</style>\n",
       "<table border=\"1\" class=\"dataframe\">\n",
       "  <thead>\n",
       "    <tr style=\"text-align: right;\">\n",
       "      <th></th>\n",
       "      <th>0</th>\n",
       "      <th>1</th>\n",
       "    </tr>\n",
       "  </thead>\n",
       "  <tbody>\n",
       "    <tr>\n",
       "      <th>0</th>\n",
       "      <td>Equatorial Diameter:</td>\n",
       "      <td>6,792 km</td>\n",
       "    </tr>\n",
       "    <tr>\n",
       "      <th>1</th>\n",
       "      <td>Polar Diameter:</td>\n",
       "      <td>6,752 km</td>\n",
       "    </tr>\n",
       "    <tr>\n",
       "      <th>2</th>\n",
       "      <td>Mass:</td>\n",
       "      <td>6.42 x 10^23 kg (10.7% Earth)</td>\n",
       "    </tr>\n",
       "    <tr>\n",
       "      <th>3</th>\n",
       "      <td>Moons:</td>\n",
       "      <td>2 (Phobos &amp; Deimos)</td>\n",
       "    </tr>\n",
       "    <tr>\n",
       "      <th>4</th>\n",
       "      <td>Orbit Distance:</td>\n",
       "      <td>227,943,824 km (1.52 AU)</td>\n",
       "    </tr>\n",
       "  </tbody>\n",
       "</table>\n",
       "</div>"
      ],
      "text/plain": [
       "                      0                              1\n",
       "0  Equatorial Diameter:                       6,792 km\n",
       "1       Polar Diameter:                       6,752 km\n",
       "2                 Mass:  6.42 x 10^23 kg (10.7% Earth)\n",
       "3                Moons:            2 (Phobos & Deimos)\n",
       "4       Orbit Distance:       227,943,824 km (1.52 AU)"
      ]
     },
     "execution_count": 22,
     "metadata": {},
     "output_type": "execute_result"
    }
   ],
   "source": [
    "data_df = table_top[0]\n",
    "data_df.head()"
   ]
  },
  {
   "cell_type": "code",
   "execution_count": 23,
   "metadata": {},
   "outputs": [
    {
     "name": "stdout",
     "output_type": "stream",
     "text": [
      "<table border=\"1\" class=\"dataframe\">\n",
      "  <thead>\n",
      "    <tr style=\"text-align: right;\">\n",
      "      <th></th>\n",
      "      <th>0</th>\n",
      "      <th>1</th>\n",
      "    </tr>\n",
      "  </thead>\n",
      "  <tbody>\n",
      "    <tr>\n",
      "      <th>0</th>\n",
      "      <td>Equatorial Diameter:</td>\n",
      "      <td>6,792 km</td>\n",
      "    </tr>\n",
      "    <tr>\n",
      "      <th>1</th>\n",
      "      <td>Polar Diameter:</td>\n",
      "      <td>6,752 km</td>\n",
      "    </tr>\n",
      "    <tr>\n",
      "      <th>2</th>\n",
      "      <td>Mass:</td>\n",
      "      <td>6.42 x 10^23 kg (10.7% Earth)</td>\n",
      "    </tr>\n",
      "    <tr>\n",
      "      <th>3</th>\n",
      "      <td>Moons:</td>\n",
      "      <td>2 (Phobos &amp; Deimos)</td>\n",
      "    </tr>\n",
      "    <tr>\n",
      "      <th>4</th>\n",
      "      <td>Orbit Distance:</td>\n",
      "      <td>227,943,824 km (1.52 AU)</td>\n",
      "    </tr>\n",
      "    <tr>\n",
      "      <th>5</th>\n",
      "      <td>Orbit Period:</td>\n",
      "      <td>687 days (1.9 years)</td>\n",
      "    </tr>\n",
      "    <tr>\n",
      "      <th>6</th>\n",
      "      <td>Surface Temperature:</td>\n",
      "      <td>-153 to 20 °C</td>\n",
      "    </tr>\n",
      "    <tr>\n",
      "      <th>7</th>\n",
      "      <td>First Record:</td>\n",
      "      <td>2nd millennium BC</td>\n",
      "    </tr>\n",
      "    <tr>\n",
      "      <th>8</th>\n",
      "      <td>Recorded By:</td>\n",
      "      <td>Egyptian astronomers</td>\n",
      "    </tr>\n",
      "  </tbody>\n",
      "</table>\n"
     ]
    }
   ],
   "source": [
    "print(data_df.to_html())"
   ]
  },
  {
   "cell_type": "code",
   "execution_count": 24,
   "metadata": {},
   "outputs": [],
   "source": [
    "broswer = Browser('chrome', headless=False)\n",
    "url_four = \"https://astrogeology.usgs.gov/search/results/?q=hemisphere+enhanced&k1=target&v1=Mars\"\n",
    "broswer.visit(url_four)"
   ]
  },
  {
   "cell_type": "code",
   "execution_count": 25,
   "metadata": {},
   "outputs": [],
   "source": [
    "html_four = browser.html\n",
    "soup_four = bs(html_four,'html.parser')"
   ]
  },
  {
   "cell_type": "code",
   "execution_count": 26,
   "metadata": {},
   "outputs": [],
   "source": [
    "astro_url_one = \"https://astropedia.astrogeology.usgs.gov/download/Mars/Vikings/cerberus_enhanced.tif/full.jpg\"\n",
    "astro_url_two = \"https://astropedia.astrogeology.usgs.gov/download/Mars/Vikings/schiaparelli_enhanced.tif/full/jpg\"\n",
    "astro_url_three = \"https://astropedia.astrogeology.usgs.gov/download/Mars/Vikings/syrtis_major_enhanced.tif/full.jpg\"\n",
    "astro_url_four = \"https://astropedia.astrogeology.usgs.gov/download/Mars/Vikings/valles_marineris_enhanced.tif/full.jpg\"\n"
   ]
  },
  {
   "cell_type": "code",
   "execution_count": 27,
   "metadata": {},
   "outputs": [],
   "source": [
    "astro_links = [astro_url_one, astro_url_two, astro_url_three, astro_url_four]"
   ]
  },
  {
   "cell_type": "code",
   "execution_count": 28,
   "metadata": {},
   "outputs": [
    {
     "data": {
      "text/plain": [
       "[<h3 class=\"typeahead-category-title saved-searches-title\" id=\"saved-searches-heading\">Saved searches</h3>,\n",
       " <h3 class=\"SignupCallOut-title u-textBreak\">\n",
       "       New to Twitter?\n",
       "     </h3>,\n",
       " <h3 class=\"RelatedUsers-title\">You may also like</h3>,\n",
       " <h3><span class=\"trend-location js-trend-location\">Worldwide trends</span></h3>,\n",
       " <h3 class=\"modal-title\">\n",
       "             \n",
       "             Mars Weather followed\n",
       "         </h3>,\n",
       " <h3 class=\"modal-title\">\n",
       "             \n",
       "             Choose a trend location\n",
       "           </h3>,\n",
       " <h3 class=\"modal-title\">Go to a person's profile</h3>,\n",
       " <h3 class=\"modal-title\">Promote this Tweet</h3>,\n",
       " <h3 class=\"modal-title\">Block</h3>,\n",
       " <h3 class=\"modal-title\">Your lists</h3>,\n",
       " <h3 class=\"modal-title\">Create a new list</h3>,\n",
       " <h3 class=\"modal-title\"></h3>,\n",
       " <h3 class=\"modal-title\">Copy link to Tweet</h3>,\n",
       " <h3 class=\"modal-title embed-tweet-title\">Embed this Tweet</h3>,\n",
       " <h3 class=\"modal-title embed-video-title\">Embed this Video</h3>,\n",
       " <h3 class=\"embed-preview-header\">Preview</h3>,\n",
       " <h3 class=\"modal-title why-this-ad-title\">Why you're seeing this ad</h3>,\n",
       " <h3 class=\"modal-title\">Log in to Twitter</h3>,\n",
       " <h3 class=\"modal-title\">Sign up for Twitter</h3>,\n",
       " <h3 class=\"modal-title\">Two-way (sending and receiving) short codes:</h3>,\n",
       " <h3 class=\"modal-title\">Confirmation</h3>,\n",
       " <h3 class=\"modal-title\"> </h3>,\n",
       " <h3 class=\"UIWalkthrough-title\">\n",
       " <span class=\"Icon Icon--home UIWalkthrough-icon\"></span>\n",
       "     Welcome home!\n",
       "   </h3>,\n",
       " <h3 class=\"UIWalkthrough-title\">\n",
       " <span class=\"Icon Icon--smileRating1Fill UIWalkthrough-icon\"></span>\n",
       "     Tweets not working for you?\n",
       "   </h3>,\n",
       " <h3 class=\"UIWalkthrough-title\">\n",
       " <span class=\"Icon Icon--heart UIWalkthrough-icon\"></span>\n",
       "     Say a lot with a little\n",
       "   </h3>,\n",
       " <h3 class=\"UIWalkthrough-title\">\n",
       " <span class=\"Icon Icon--retweet UIWalkthrough-icon\"></span>\n",
       "     Spread the word\n",
       "   </h3>,\n",
       " <h3 class=\"UIWalkthrough-title\">\n",
       " <span class=\"Icon Icon--reply UIWalkthrough-icon\"></span>\n",
       "     Join the conversation\n",
       "   </h3>,\n",
       " <h3 class=\"UIWalkthrough-title\">\n",
       " <span class=\"Icon Icon--discover UIWalkthrough-icon\"></span>\n",
       "     Learn the latest\n",
       "   </h3>,\n",
       " <h3 class=\"UIWalkthrough-title\">\n",
       " <span class=\"Icon Icon--follow UIWalkthrough-icon\"></span>\n",
       "     Get more of what you love\n",
       "   </h3>,\n",
       " <h3 class=\"UIWalkthrough-title\">\n",
       " <span class=\"Icon Icon--search UIWalkthrough-icon\"></span>\n",
       "     Find what's happening\n",
       "   </h3>,\n",
       " <h3 class=\"UIWalkthrough-title\">\n",
       " <span class=\"Icon Icon--lightning UIWalkthrough-icon\"></span>\n",
       "     Never miss a Moment\n",
       "   </h3>]"
      ]
     },
     "execution_count": 28,
     "metadata": {},
     "output_type": "execute_result"
    }
   ],
   "source": [
    "astro = soup_four.find_all('h3')\n",
    "astro"
   ]
  },
  {
   "cell_type": "code",
   "execution_count": 29,
   "metadata": {},
   "outputs": [
    {
     "data": {
      "text/plain": [
       "['Saved searches',\n",
       " 'New to Twitter?',\n",
       " 'You may also like',\n",
       " 'Worldwide trends',\n",
       " 'Mars Weather followed',\n",
       " 'Choose a trend location',\n",
       " \"Go to a person's profile\",\n",
       " 'Promote this Tweet',\n",
       " 'Block',\n",
       " 'Your lists',\n",
       " 'Create a new list',\n",
       " '',\n",
       " 'Copy link to Tweet',\n",
       " 'Embed this Tweet',\n",
       " 'Embed this Video',\n",
       " 'Preview',\n",
       " \"Why you're seeing this ad\",\n",
       " 'Log in to Twitter',\n",
       " 'Sign up for Twitter',\n",
       " 'Two-way (sending and receiving) short codes:',\n",
       " 'Confirmation',\n",
       " '',\n",
       " 'Welcome home!',\n",
       " 'Tweets not working for you?',\n",
       " 'Say a lot with a little',\n",
       " 'Spread the word',\n",
       " 'Join the conversation',\n",
       " 'Learn the latest',\n",
       " 'Get more of what you love',\n",
       " \"Find what's happening\",\n",
       " 'Never miss a Moment']"
      ]
     },
     "execution_count": 29,
     "metadata": {},
     "output_type": "execute_result"
    }
   ],
   "source": [
    "astro_descripts = [h3.text.strip() for h3 in astro]\n",
    "astro_descripts"
   ]
  },
  {
   "cell_type": "code",
   "execution_count": 30,
   "metadata": {},
   "outputs": [
    {
     "data": {
      "text/plain": [
       "[{'title': 'Saved searches',\n",
       "  'img_url': 'https://astropedia.astrogeology.usgs.gov/download/Mars/Vikings/cerberus_enhanced.tif/full.jpg'},\n",
       " {'title': 'New to Twitter?',\n",
       "  'img_url': 'https://astropedia.astrogeology.usgs.gov/download/Mars/Vikings/schiaparelli_enhanced.tif/full/jpg'},\n",
       " {'title': 'You may also like',\n",
       "  'img_url': 'https://astropedia.astrogeology.usgs.gov/download/Mars/Vikings/syrtis_major_enhanced.tif/full.jpg'},\n",
       " {'title': 'Worldwide trends',\n",
       "  'img_url': 'https://astropedia.astrogeology.usgs.gov/download/Mars/Vikings/valles_marineris_enhanced.tif/full.jpg'}]"
      ]
     },
     "execution_count": 30,
     "metadata": {},
     "output_type": "execute_result"
    }
   ],
   "source": [
    "hemisphere_pics_urls = [{'title': astro_descript, 'img_url':astro_link} for astro_descript, astro_link in zip(astro_descripts, astro_links)]\n",
    "hemisphere_pics_urls"
   ]
  },
  {
   "cell_type": "code",
   "execution_count": null,
   "metadata": {},
   "outputs": [],
   "source": []
  }
 ],
 "metadata": {
  "kernelspec": {
   "display_name": "Python 3",
   "language": "python",
   "name": "python3"
  },
  "language_info": {
   "codemirror_mode": {
    "name": "ipython",
    "version": 3
   },
   "file_extension": ".py",
   "mimetype": "text/x-python",
   "name": "python",
   "nbconvert_exporter": "python",
   "pygments_lexer": "ipython3",
   "version": "3.7.1"
  }
 },
 "nbformat": 4,
 "nbformat_minor": 2
}
